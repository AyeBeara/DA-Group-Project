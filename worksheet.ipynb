{
 "cells": [
  {
   "cell_type": "code",
   "execution_count": 1,
   "metadata": {},
   "outputs": [],
   "source": [
    "import pandas as pd\n",
    "import matplotlib.pyplot as plt\n",
    "import seaborn as sns\n",
    "import requests\n",
    "import base64\n",
    "import datetime as dt\n",
    "import meteomatics.api as api"
   ]
  },
  {
   "cell_type": "code",
   "execution_count": 2,
   "metadata": {},
   "outputs": [],
   "source": [
    "# Set your username and password\n",
    "username = 'student_gatenbee_aidan'\n",
    "password = 'KnOJt5he48'\n",
    "\n",
    "coordinates = [(47.11, 11.47)]\n",
    "parameters = ['t_2m:C', 'precip_1h:mm', 'wind_speed_10m:ms']\n",
    "model = 'mix'\n",
    "startdate = dt.datetime.utcnow().replace(minute=0, second=0, microsecond=0)\n",
    "enddate = startdate + dt.timedelta(days=1)\n",
    "interval = dt.timedelta(hours=1)\n",
    "\n",
    "df = api.query_time_series(coordinates, startdate, enddate, interval, parameters, username, password, model=model)"
   ]
  },
  {
   "cell_type": "code",
   "execution_count": 3,
   "metadata": {},
   "outputs": [
    {
     "data": {
      "text/html": [
       "<div>\n",
       "<style scoped>\n",
       "    .dataframe tbody tr th:only-of-type {\n",
       "        vertical-align: middle;\n",
       "    }\n",
       "\n",
       "    .dataframe tbody tr th {\n",
       "        vertical-align: top;\n",
       "    }\n",
       "\n",
       "    .dataframe thead th {\n",
       "        text-align: right;\n",
       "    }\n",
       "</style>\n",
       "<table border=\"1\" class=\"dataframe\">\n",
       "  <thead>\n",
       "    <tr style=\"text-align: right;\">\n",
       "      <th></th>\n",
       "      <th></th>\n",
       "      <th></th>\n",
       "      <th>t_2m:C</th>\n",
       "      <th>precip_1h:mm</th>\n",
       "      <th>wind_speed_10m:ms</th>\n",
       "    </tr>\n",
       "    <tr>\n",
       "      <th>lat</th>\n",
       "      <th>lon</th>\n",
       "      <th>validdate</th>\n",
       "      <th></th>\n",
       "      <th></th>\n",
       "      <th></th>\n",
       "    </tr>\n",
       "  </thead>\n",
       "  <tbody>\n",
       "    <tr>\n",
       "      <th rowspan=\"5\" valign=\"top\">47.11</th>\n",
       "      <th rowspan=\"5\" valign=\"top\">11.47</th>\n",
       "      <th>2024-03-03 19:00:00+00:00</th>\n",
       "      <td>5.6</td>\n",
       "      <td>0.0</td>\n",
       "      <td>3.2</td>\n",
       "    </tr>\n",
       "    <tr>\n",
       "      <th>2024-03-03 20:00:00+00:00</th>\n",
       "      <td>2.7</td>\n",
       "      <td>0.0</td>\n",
       "      <td>1.0</td>\n",
       "    </tr>\n",
       "    <tr>\n",
       "      <th>2024-03-03 21:00:00+00:00</th>\n",
       "      <td>2.0</td>\n",
       "      <td>0.0</td>\n",
       "      <td>1.1</td>\n",
       "    </tr>\n",
       "    <tr>\n",
       "      <th>2024-03-03 22:00:00+00:00</th>\n",
       "      <td>3.9</td>\n",
       "      <td>0.0</td>\n",
       "      <td>3.3</td>\n",
       "    </tr>\n",
       "    <tr>\n",
       "      <th>2024-03-03 23:00:00+00:00</th>\n",
       "      <td>3.8</td>\n",
       "      <td>0.0</td>\n",
       "      <td>3.8</td>\n",
       "    </tr>\n",
       "  </tbody>\n",
       "</table>\n",
       "</div>"
      ],
      "text/plain": [
       "                                       t_2m:C  precip_1h:mm  wind_speed_10m:ms\n",
       "lat   lon   validdate                                                         \n",
       "47.11 11.47 2024-03-03 19:00:00+00:00     5.6           0.0                3.2\n",
       "            2024-03-03 20:00:00+00:00     2.7           0.0                1.0\n",
       "            2024-03-03 21:00:00+00:00     2.0           0.0                1.1\n",
       "            2024-03-03 22:00:00+00:00     3.9           0.0                3.3\n",
       "            2024-03-03 23:00:00+00:00     3.8           0.0                3.8"
      ]
     },
     "execution_count": 3,
     "metadata": {},
     "output_type": "execute_result"
    }
   ],
   "source": [
    "df.head()"
   ]
  }
 ],
 "metadata": {
  "kernelspec": {
   "display_name": "Python 3",
   "language": "python",
   "name": "python3"
  },
  "language_info": {
   "codemirror_mode": {
    "name": "ipython",
    "version": 3
   },
   "file_extension": ".py",
   "mimetype": "text/x-python",
   "name": "python",
   "nbconvert_exporter": "python",
   "pygments_lexer": "ipython3",
   "version": "3.8.8"
  }
 },
 "nbformat": 4,
 "nbformat_minor": 2
}
